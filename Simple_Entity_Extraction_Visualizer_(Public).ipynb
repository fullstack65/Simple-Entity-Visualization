{
  "nbformat": 4,
  "nbformat_minor": 0,
  "metadata": {
    "colab": {
      "provenance": [],
      "collapsed_sections": [],
      "include_colab_link": true
    },
    "kernelspec": {
      "name": "python3",
      "display_name": "Python 3"
    },
    "language_info": {
      "name": "python"
    },
    "accelerator": "TPU",
    "gpuClass": "standard"
  },
  "cells": [
    {
      "cell_type": "markdown",
      "metadata": {
        "id": "view-in-github",
        "colab_type": "text"
      },
      "source": [
        "<a href=\"https://colab.research.google.com/github/fullstack65/Simple-Entity-Visualization/blob/main/Simple_Entity_Extraction_Visualizer_(Public).ipynb\" target=\"_parent\"><img src=\"https://colab.research.google.com/assets/colab-badge.svg\" alt=\"Open In Colab\"/></a>"
      ]
    },
    {
      "cell_type": "markdown",
      "source": [
        "# Simple Entity Visualization Tool Using spaCy\n",
        "---\n",
        "This was made to illustrate how named entity recognition works on documents for the \"Nobody Told You How To Do Entity SEO\" webinar.\n",
        "\n"
      ],
      "metadata": {
        "id": "5QpEHkt-xo8M"
      }
    },
    {
      "cell_type": "code",
      "source": [
        "#Install Textractor\n",
        "!pip install git+https://github.com/neuml/txtai#egg=txtai[pipeline]"
      ],
      "metadata": {
        "id": "dY_UsOFWwd0-"
      },
      "execution_count": null,
      "outputs": []
    },
    {
      "cell_type": "code",
      "source": [
        "# Install IPython to render HTML, spaCy for named entity recognition operations\n",
        "# , spaCy CLI to get the bigger entity dictionary, and textractor to...you \n",
        "# guessed it - Extract text!\n",
        "import IPython\n",
        "import spacy\n",
        "import spacy.cli\n",
        "\n",
        "from google.colab import files\n",
        "from spacy import displacy\n",
        "from txtai.pipeline import Textractor\n",
        "\n",
        "# Download the bigger entity dictionary\n",
        "spacy.cli.download(\"en_core_web_lg\")\n",
        "\n",
        "# You could just use the smaller entity dictionary by uncommenting the below\n",
        "#nlp = spacy.load(\"en_core_web_sm\")\n",
        "nlp = spacy.load(\"en_core_web_lg\")\n"
      ],
      "metadata": {
        "colab": {
          "base_uri": "https://localhost:8080/"
        },
        "id": "HnNtDHZbrGuA",
        "outputId": "3c29aa87-9174-43e1-8262-ae9daafa11f7"
      },
      "execution_count": null,
      "outputs": [
        {
          "output_type": "stream",
          "name": "stdout",
          "text": [
            "\u001b[38;5;2m✔ Download and installation successful\u001b[0m\n",
            "You can now load the package via spacy.load('en_core_web_lg')\n"
          ]
        }
      ]
    },
    {
      "cell_type": "markdown",
      "source": [
        "# Enter Text for Named Entity Annotations"
      ],
      "metadata": {
        "id": "Ct-XYNKj4L3T"
      }
    },
    {
      "cell_type": "code",
      "execution_count": null,
      "metadata": {
        "id": "QTqs6o-Nqoru"
      },
      "outputs": [],
      "source": [
        "# Insert your text between the \"\"\n",
        "textDoc = nlp(\"And where's my reports? Uh, you mean nobody's asked you? Wait a minute. Wait a minute, Doc. Are you telling me that it's 8:25? Alright, c'mon, I think we're safe. Who is that guy.My name's Lorraine, Lorraine Baines. C'mon, open up, let me out of here, Yo. Lorenzo, where're you keys? That's a great idea. I'd love to park. Good, there's somebody I'd like you to meet. Lorraine.And Jack Benny is secretary of the Treasury. Ohh, no. I guarantee it. But I can't go to the dance, I'll miss my favorite television program, Science Fiction Theater. And where's my reports?\")\n",
        "\n",
        "display(IPython.display.HTML(displacy.render(textDoc, style=\"ent\")))"
      ]
    },
    {
      "cell_type": "markdown",
      "source": [
        "# Upload a file for Named Entity Annotations"
      ],
      "metadata": {
        "id": "TPN5w_cL4DdF"
      }
    },
    {
      "cell_type": "code",
      "source": [
        "uploaded = files.upload() # Select the file you want to upload below\n",
        "doc = next(iter(uploaded)) \n",
        "textractor = Textractor()\n",
        "fileDoc = nlp(textractor(doc))\n",
        "display(IPython.display.HTML(displacy.render(fileDoc, style=\"ent\")))\n",
        "\n"
      ],
      "metadata": {
        "id": "581v9pCRwjzW"
      },
      "execution_count": null,
      "outputs": []
    },
    {
      "cell_type": "markdown",
      "source": [
        "# Enter a URL for Named Entity Annotation"
      ],
      "metadata": {
        "id": "idNBD01N79Vm"
      }
    },
    {
      "cell_type": "code",
      "source": [
        "# Replace URL here\n",
        "urlDoc = nlp(textractor(\"https://newsone.com/4434673/lindsey-graham-herschel-walker/\"))\n",
        "display(IPython.display.HTML(displacy.render(urlDoc, style=\"ent\")))\n",
        "\n"
      ],
      "metadata": {
        "id": "tYPS-aZE782d"
      },
      "execution_count": null,
      "outputs": []
    }
  ]
}